{
 "cells": [
  {
   "cell_type": "code",
   "execution_count": null,
   "metadata": {},
   "outputs": [],
   "source": [
    "import plotly.graph_objects as go\n",
    "\n",
    "data = {\n",
    "    'Name': ['Bengaluru', 'Chennai', 'Sriharikota'],\n",
    "    'Latitude': [12.9716, 13.0827, 13.6847],\n",
    "    'Longitude': [77.5946, 80.2707, 80.2167],\n",
    "    'Elevation': [0, 0, 0] \n",
    "}\n",
    "\n",
    "fig = go.Figure()\n",
    "\n",
    "fig.add_trace(go.Scattergeo(\n",
    "    lon=data['Longitude'],\n",
    "    lat=data['Latitude'],\n",
    "    mode='markers+text',\n",
    "    text=data['Name'],\n",
    "    textposition='top center',\n",
    "    marker=dict(\n",
    "        size=8,\n",
    "        color='red',\n",
    "        opacity=0.8\n",
    "    )\n",
    "))\n",
    "fig.update_layout(\n",
    "    title='Indian Cities',\n",
    "    geo=dict(\n",
    "        projection_type='orthographic',\n",
    "        showland=True,\n",
    "        landcolor='lightgray',\n",
    "        showocean=True,\n",
    "        oceancolor='azure',\n",
    "        showcountries=True,\n",
    "    ),\n",
    "    margin=dict(l=0, r=0, t=40, b=0)\n",
    ")\n",
    "\n",
    "fig.show()\n"
   ]
  }
 ],
 "metadata": {
  "language_info": {
   "name": "python"
  }
 },
 "nbformat": 4,
 "nbformat_minor": 2
}
